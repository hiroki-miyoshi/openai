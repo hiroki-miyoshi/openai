{
  "nbformat": 4,
  "nbformat_minor": 0,
  "metadata": {
    "colab": {
      "provenance": []
    },
    "kernelspec": {
      "name": "python3",
      "display_name": "Python 3"
    },
    "language_info": {
      "name": "python"
    }
  },
  "cells": [
    {
      "cell_type": "code",
      "execution_count": null,
      "metadata": {
        "id": "iqTis7JBr-dN"
      },
      "outputs": [],
      "source": [
        "!pip install openai"
      ]
    },
    {
      "cell_type": "code",
      "source": [
        "import os\n",
        "import openai\n",
        "openai.api_key = \"YOUR_OPENAI_KEY\""
      ],
      "metadata": {
        "id": "7IarBRAfsFIY"
      },
      "execution_count": null,
      "outputs": []
    },
    {
      "cell_type": "code",
      "source": [
        "from google.colab import files\n",
        "\n",
        "uploaded = files.upload()"
      ],
      "metadata": {
        "id": "9fi-IgpksHtl"
      },
      "execution_count": null,
      "outputs": []
    },
    {
      "cell_type": "code",
      "source": [
        "file_name = next(iter(uploaded))\n",
        "file_path = \"/content/\" + file_name\n",
        "print(\"File Path:\", file_path)"
      ],
      "metadata": {
        "id": "5tbOzc_MsPwv"
      },
      "execution_count": null,
      "outputs": []
    },
    {
      "cell_type": "markdown",
      "source": [
        "ファイルをアップロードし、パスを指定する。"
      ],
      "metadata": {
        "id": "LTVZxLZOu7Qj"
      }
    },
    {
      "cell_type": "code",
      "source": [
        "import csv\n",
        "from typing import List\n",
        "\n",
        "\n",
        "def get_csv_head(file_path: str = \"/content/xxxxxx.csv\") -> str:\n",
        "    text = ''\n",
        "\n",
        "    with open(file_path, 'r') as csvfile:\n",
        "        reader = csv.reader(csvfile)\n",
        "        for i, row in enumerate(reader):\n",
        "            if i < 50:\n",
        "                text += ','.join(row) + '\\n'\n",
        "            else:\n",
        "                break\n",
        "\n",
        "    return text"
      ],
      "metadata": {
        "id": "2JQU_8Gwsb7z"
      },
      "execution_count": null,
      "outputs": []
    },
    {
      "cell_type": "markdown",
      "source": [
        "CSVをテキストとして読み込む"
      ],
      "metadata": {
        "id": "hDukdxVQvKjd"
      }
    },
    {
      "cell_type": "code",
      "source": [
        "def completion(new_message_text:str, settings_text:str = '', past_messages:list = []):\n",
        "    if len(past_messages) == 0 and len(settings_text) != 0:\n",
        "        system = {\"role\": \"system\", \"content\": settings_text}\n",
        "        past_messages.append(system)\n",
        "    new_message = {\"role\": \"user\", \"content\": new_message_text}\n",
        "    past_messages.append(new_message)\n",
        "\n",
        "    result = openai.ChatCompletion.create(\n",
        "        model=\"gpt-3.5-turbo\",\n",
        "        messages=past_messages,\n",
        "        max_tokens=1024\n",
        "    )\n",
        "    response_message = {\"role\": \"assistant\", \"content\": result.choices[0].message.content}\n",
        "    past_messages.append(response_message)\n",
        "    response_message_text = result.choices[0].message.content\n",
        "    return response_message_text, past_messages"
      ],
      "metadata": {
        "id": "BqzIDSRstIc8"
      },
      "execution_count": null,
      "outputs": []
    },
    {
      "cell_type": "markdown",
      "source": [
        "GPTによしなにやってもらう。パラメータはいい感じに指定する。"
      ],
      "metadata": {
        "id": "E0pRPGcOvc-a"
      }
    },
    {
      "cell_type": "markdown",
      "source": [
        "template_summarizeの中身を欲しい結果に書き換える。"
      ],
      "metadata": {
        "id": "Pu2fA1FAv1qS"
      }
    },
    {
      "cell_type": "code",
      "source": [
        "csv_head = get_csv_head()\n",
        "\n",
        "# CSVの要約\n",
        "prompt = f\"\"\"{csv_head}\n",
        "\n",
        "上記データを要約し、markdownを用いて５００字程度のレポートにまとめて下さい。\"\"\"\n",
        "summarize_text, past = completion(prompt, '', [])\n",
        "\n",
        "from IPython.display import display, Markdown, Latex\n",
        "\n",
        "display(Markdown(\"## 概要\\n\" + summarize_text))"
      ],
      "metadata": {
        "id": "8nLVhtpvwsGG"
      },
      "execution_count": null,
      "outputs": []
    }
  ]
}